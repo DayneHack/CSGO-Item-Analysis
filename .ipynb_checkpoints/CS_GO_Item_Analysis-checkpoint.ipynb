{
 "cells": [
  {
   "cell_type": "markdown",
   "metadata": {
    "id": "4I2BCZXRKZL3"
   },
   "source": [
    "# Data Collection"
   ]
  },
  {
   "cell_type": "code",
   "execution_count": null,
   "metadata": {
    "id": "rRw3KYlu-1W3"
   },
   "outputs": [],
   "source": [
    "import pandas as pd\n",
    "from pandas import json_normalize\n",
    "import requests\n",
    "import json\n",
    "import time\n",
    "\n",
    "apikey = \"api key here\"\n",
    "\n",
    "weaponTypes = [\"AK-47\", \"M4A4\", \"M4A1-S\"]\n",
    "\n",
    "AK47Finishes = [\" Redline \", \" Jaguar \", \" Head Shot \", \" Nightwish \", \" Leet Museo \", \" Legion of Anubis \", \" Asiimov \", \" Neon Rider \", \" The Empress \", \" Bloodsport \", \" Neon Revolution \", \" Fuel Injector \", \" Aquamarine Revenge \", \" Wasteland Rebel \", \" Vulcan \", \" Fire Serpent \", \" Gold Arabesque \", \" X-Ray \", \" Wild Lotus \", \" Ice Coaled \", \" Phantom Disruptor \", \" Point Disarray \", \" Frontside Misty \", \" Cartel \", \" Case Hardened \", \" Red Laminate \", \" Panthera onca \", \" Hydroponic \", \" Jet Set \", \" Slate \", \" Rat Rod \", \" Orbit Mk01 \", \" Blue Laminate \", \" Safety Net \", \" First Class \", \" Emerald Pinstripe \", \" Uncharted \", \" Elite Build \", \" Steel Delta \", \" Green Laminate \", \" Black Laminate \", \" Baroque Purple \", \" Safari Mesh \", \" Jungle Spray \", \" Predator \"]\n",
    "M4A4Finishes = [\" Howl \", \" Temukau \", \" In Living Color \", \" The Emperor \", \" Neo-Noir \", \" Buzz Kill \", \" The BattleStar \", \" Royal Paladin \", \" Bullet Rain \", \" Desert-Strike \", \" Asiimov \", \" X-Ray \",  \" Eye of Horus \",  \" The Coalition \",  \" Cyber Security \",  \" Tooth Fairy \",  \" Hellfire \",  \" Desolate Space \",  \" 龍王 (Dragon King) \",  \" Poseidon \",  \" Spider Lily \", \" Evil Daimyo \", \" Griffin \", \" Zirka \", \" Red DDPAT \", \" Daybreak \", \" Modern Hunter \", \" Poly Mag \", \" Magnesium \", \" Faded Zebra \", \" Global Offensive \", \" Converter \", \" Radiation Hazard \", \" Dark Blossom \", \" Mainframe \", \" Urban DDPAT \", \" Desert Storm \", \" Tornado \", \" Jungle Tiger \"]\n",
    "M4A1Finishes = [\" Printstream \", \" Player Two \", \" Mecha Industries \", \" Chantico's Fire \", \" Golden Coil \", \" Hyper Beast \", \" Cyrex \", \" Imminent Danger \", \" Welcome to the Jungle \", \" Nightmare \", \" Leaded Glass \", \" Decimator \", \" Atomic Alloy \", \" Guardian \", \" Blue Phosphor \", \" Control Panel \", \" Hot Rod \", \" Master Piece \", \" Knight \", \" Emphorosaur-S \", \" Night Terror \", \" Flashback \", \" Basilisk \", \" Bright Water \", \" Dark Water \", \" Icarus Fell \", \" Nitro \", \" Briefing \", \" Blood Tiger \", \" Fizzy POP \", \" VariCamo \", \" Mud-Spec \", \" Moss Quartz \", \" Boreal Forest \"]\n",
    "\n",
    "skinWears = [\"(Factory New)\", \"(Minimal Wear)\", \"(Field-Tested)\", \"(Well-Worn)\", \"(Battle-Scarred)\"]\n",
    "\n",
    "toRemove = [\"nameID\", \"appID\", \"market_hash_name\", \"description\", \"url\", \"image\", \"border_color\", \"app_context_data\", \"updated_at\", \"histogram\"]\n",
    "\n",
    "df = pd.DataFrame()\n",
    "\n",
    "for l in weaponTypes:\n",
    "  skinFinishes = []\n",
    "  if l == \"AK-47\":  skinFinishes = AK47Finishes\n",
    "  if l == \"M4A4\":  skinFinishes = M4A4Finishes\n",
    "  if l == \"M4A1-S\":  skinFinishes = M4A1Finishes\n",
    "  for i in skinFinishes:\n",
    "    time.sleep(10)\n",
    "    for j in skinWears:\n",
    "      call = requests.get(\"https://api.steamapis.com/market/item/730/\" + l + \" |\" + i + j + \"?api_key=\" + apikey)\n",
    "      call = call.json()\n",
    "      for k in toRemove:\n",
    "        call.pop(k, None)\n",
    "      call = json_normalize(call)\n",
    "      df = pd.concat([df,call])\n"
   ]
  },
  {
   "cell_type": "markdown",
   "metadata": {
    "id": "uH8FOrR0xHuK"
   },
   "source": [
    "# Data Cleaning"
   ]
  },
  {
   "cell_type": "code",
   "execution_count": 1,
   "metadata": {
    "id": "fI7bwFOV7ZZW"
   },
   "outputs": [],
   "source": [
    "collection_release_year_map = {\n",
    "    'The Anubis Collection': 2023, 'The Revolution Collection': 2023, 'The Recoil Collection': 2022, 'The Dreams & Nightmares Collection': 2022, 'The 2021 Train Collection': 2021, 'The 2021 Dust 2 Collection': 2021,\n",
    "    'The 2021 Mirage Collection': 2021, 'The 2021 Vertigo Collection': 2021, 'The Operation Riptide Collection': 2021, 'The Snakebite Collection': 2021, 'The Operation Broken Fang Collection': 2020, 'The Control Collection': 2020,\n",
    "    'The Ancient Collection': 2020, 'The Havoc Collection': 2020, 'The Fracture Collection': 2020, 'The Prisma 2 Collection': 2020, 'The Canals Collection': 2019, 'The St. Marc Collection': 2019,\n",
    "    'The Norse Collection': 2019, 'The Shattered Web Collection': 2019, 'The CS20 Collection': 2019, 'The X-Ray Collection': 2019, 'The Prisma Collection': 2019, 'The Clutch Collection': 2018,\n",
    "    'The Blacksite Collection': 2018, 'The Danger Zone Collection': 2018, 'The 2018 Nuke Collection': 2018, 'The 2018 Inferno Collection': 2018, 'The Horizon Collection': 2018, 'The Spectrum 2 Collection': 2017,\n",
    "    'The Operation Hydra Collection': 2017, 'The Spectrum Collection': 2017, 'The Glove Collection': 2016, 'The Gamma 2 Collection': 2016, 'The Gamma Collection': 2016, 'The Chroma 3 Collection': 2016,\n",
    "    'The Wildfire Collection': 2016, 'The Revolver Case Collection': 2015, 'The Shadow Collection': 2015, 'The Rising Sun Collection': 2015, 'The Gods and Monsters Collection': 2015, 'The Chop Shop Collection': 2015,\n",
    "    'The Falchion Collection': 2015, 'The Chroma 2 Collection': 2015, 'The Chroma Collection': 2015, 'The Vanguard Collection': 2014, 'The Cache Collection': 2014, 'The eSports 2014 Summer Collection': 2014,\n",
    "    'The Breakout Collection': 2014, 'The Baggage Collection': 2014, 'The Overpass Collection': 2014, 'The Cobblestone Collection': 2014, 'The Bank Collection': 2014, 'The Huntsman Collection': 2014,\n",
    "    'The Phoenix Collection': 2014, 'The Arms Deal 3 Collection': 2014, 'The eSports 2013 Winter Collection': 2013, 'The Winter Offensive Collection': 2013, 'The Italy Collection': 2013, 'The Mirage Collection': 2013,\n",
    "    'The Safehouse Collection': 2013, 'The Dust 2 Collection': 2013, 'The Lake Collection': 2013, 'The Train Collection': 2013, 'The Arms Deal 2 Collection': 2013, 'The Alpha Collection': 2013,\n",
    "    'The Bravo Collection': 2013, 'The Assault Collection': 2013, 'The Dust Collection': 2013, 'The Office Collection': 2013, 'The Nuke Collection': 2013, 'The Aztec Collection': 2013,\n",
    "    'The Inferno Collection': 2013, 'The Arms Deal Collection': 2013, 'The Militia Collection': 2013, 'The Vertigo Collection': 2013, 'The eSports 2013 Collection': 2013\n",
    "}\n",
    "\n",
    "def findCollectionTitle(x):\n",
    "  x = x.split(\"'\")\n",
    "  for i in x:\n",
    "    if i[:3] == 'The':\n",
    "      return i\n",
    "\n",
    "def isfloat(num):\n",
    "    try:\n",
    "        float(num)\n",
    "        return True\n",
    "    except ValueError:\n",
    "        return False\n",
    "\n",
    "def isolatePrices(x):\n",
    "  x = x.split(',')\n",
    "  priceList = []\n",
    "  for i in x:\n",
    "    if isfloat(i):\n",
    "      priceList.append(float(i))\n",
    "  return priceList\n",
    "\n",
    "def getAveragePrice(x):\n",
    "  sum=0\n",
    "  for i in x:\n",
    "    sum = sum + i\n",
    "  return round(sum/len(x), 2)"
   ]
  },
  {
   "cell_type": "code",
   "execution_count": 81,
   "metadata": {
    "colab": {
     "base_uri": "https://localhost:8080/",
     "height": 320
    },
    "id": "qASUPxLixKE6",
    "outputId": "b4e27b13-39c6-4bbe-b37c-409eb59fb5f2"
   },
   "outputs": [
    {
     "data": {
      "text/html": [
       "<div>\n",
       "<style scoped>\n",
       "    .dataframe tbody tr th:only-of-type {\n",
       "        vertical-align: middle;\n",
       "    }\n",
       "\n",
       "    .dataframe tbody tr th {\n",
       "        vertical-align: top;\n",
       "    }\n",
       "\n",
       "    .dataframe thead th {\n",
       "        text-align: right;\n",
       "    }\n",
       "</style>\n",
       "<table border=\"1\" class=\"dataframe\">\n",
       "  <thead>\n",
       "    <tr style=\"text-align: right;\">\n",
       "      <th></th>\n",
       "      <th>market_name</th>\n",
       "      <th>median_avg_prices_15days</th>\n",
       "      <th>collection</th>\n",
       "      <th>rarity</th>\n",
       "      <th>average_price</th>\n",
       "      <th>weapon</th>\n",
       "      <th>last_sold_on_market</th>\n",
       "      <th>skin_condition</th>\n",
       "      <th>skin_name</th>\n",
       "      <th>release_year</th>\n",
       "    </tr>\n",
       "  </thead>\n",
       "  <tbody>\n",
       "    <tr>\n",
       "      <th>0</th>\n",
       "      <td>AK-47 | Redline (Minimal Wear)</td>\n",
       "      <td>[['Jun 12 2023', 105.9247, 16], ['Jun 13 2023'...</td>\n",
       "      <td>The Phoenix Collection</td>\n",
       "      <td>Classified</td>\n",
       "      <td>107.59</td>\n",
       "      <td>AK-47</td>\n",
       "      <td>2023</td>\n",
       "      <td>Minimal Wear</td>\n",
       "      <td>Redline</td>\n",
       "      <td>2014</td>\n",
       "    </tr>\n",
       "    <tr>\n",
       "      <th>1</th>\n",
       "      <td>AK-47 | Redline (Field-Tested)</td>\n",
       "      <td>[['Jun 12 2023', 24.287304347826083, 278], ['J...</td>\n",
       "      <td>The Phoenix Collection</td>\n",
       "      <td>Classified</td>\n",
       "      <td>23.77</td>\n",
       "      <td>AK-47</td>\n",
       "      <td>2023</td>\n",
       "      <td>Field-Tested</td>\n",
       "      <td>Redline</td>\n",
       "      <td>2014</td>\n",
       "    </tr>\n",
       "    <tr>\n",
       "      <th>2</th>\n",
       "      <td>AK-47 | Redline (Well-Worn)</td>\n",
       "      <td>[['Jun 12 2023', 17.943125, 39], ['Jun 13 2023...</td>\n",
       "      <td>The Phoenix Collection</td>\n",
       "      <td>Classified</td>\n",
       "      <td>18.52</td>\n",
       "      <td>AK-47</td>\n",
       "      <td>2023</td>\n",
       "      <td>Well-Worn</td>\n",
       "      <td>Redline</td>\n",
       "      <td>2014</td>\n",
       "    </tr>\n",
       "    <tr>\n",
       "      <th>3</th>\n",
       "      <td>AK-47 | Redline (Battle-Scarred)</td>\n",
       "      <td>[['Jun 12 2023', 27.789611111111107, 49], ['Ju...</td>\n",
       "      <td>The Phoenix Collection</td>\n",
       "      <td>Classified</td>\n",
       "      <td>15.25</td>\n",
       "      <td>AK-47</td>\n",
       "      <td>2023</td>\n",
       "      <td>Battle-Scarred</td>\n",
       "      <td>Redline</td>\n",
       "      <td>2014</td>\n",
       "    </tr>\n",
       "    <tr>\n",
       "      <th>4</th>\n",
       "      <td>AK-47 | Jaguar (Factory New)</td>\n",
       "      <td>[['May 22 2023', 171.237, 2], ['May 23 2023', ...</td>\n",
       "      <td>The eSports 2014 Summer Collection</td>\n",
       "      <td>Covert</td>\n",
       "      <td>191.63</td>\n",
       "      <td>AK-47</td>\n",
       "      <td>2023</td>\n",
       "      <td>Factory New</td>\n",
       "      <td>Jaguar</td>\n",
       "      <td>2014</td>\n",
       "    </tr>\n",
       "  </tbody>\n",
       "</table>\n",
       "</div>"
      ],
      "text/plain": [
       "                        market_name  \\\n",
       "0    AK-47 | Redline (Minimal Wear)   \n",
       "1    AK-47 | Redline (Field-Tested)   \n",
       "2       AK-47 | Redline (Well-Worn)   \n",
       "3  AK-47 | Redline (Battle-Scarred)   \n",
       "4      AK-47 | Jaguar (Factory New)   \n",
       "\n",
       "                            median_avg_prices_15days  \\\n",
       "0  [['Jun 12 2023', 105.9247, 16], ['Jun 13 2023'...   \n",
       "1  [['Jun 12 2023', 24.287304347826083, 278], ['J...   \n",
       "2  [['Jun 12 2023', 17.943125, 39], ['Jun 13 2023...   \n",
       "3  [['Jun 12 2023', 27.789611111111107, 49], ['Ju...   \n",
       "4  [['May 22 2023', 171.237, 2], ['May 23 2023', ...   \n",
       "\n",
       "                           collection      rarity  average_price weapon  \\\n",
       "0              The Phoenix Collection  Classified         107.59  AK-47   \n",
       "1              The Phoenix Collection  Classified          23.77  AK-47   \n",
       "2              The Phoenix Collection  Classified          18.52  AK-47   \n",
       "3              The Phoenix Collection  Classified          15.25  AK-47   \n",
       "4  The eSports 2014 Summer Collection      Covert         191.63  AK-47   \n",
       "\n",
       "  last_sold_on_market  skin_condition skin_name  release_year  \n",
       "0                2023    Minimal Wear   Redline          2014  \n",
       "1                2023    Field-Tested   Redline          2014  \n",
       "2                2023       Well-Worn   Redline          2014  \n",
       "3                2023  Battle-Scarred   Redline          2014  \n",
       "4                2023     Factory New    Jaguar          2014  "
      ]
     },
     "execution_count": 81,
     "metadata": {},
     "output_type": "execute_result"
    }
   ],
   "source": [
    "import pandas as pd\n",
    "pd.options.mode.chained_assignment = None\n",
    "\n",
    "df=pd.read_csv('skins.csv')\n",
    "\n",
    "df.rename(columns={'assets.type':'rarity'}, inplace=True)\n",
    "df.rename(columns={'assets.descriptions':'collection'}, inplace=True)\n",
    "\n",
    "df['collection'] = df['collection'].apply(findCollectionTitle)\n",
    "\n",
    "prices = df['median_avg_prices_15days'].apply(isolatePrices)\n",
    "\n",
    "df['average_price'] = prices.apply(getAveragePrice)\n",
    "\n",
    "skin_name = df['market_name'].apply(lambda x: x.split('(')[0])\n",
    "\n",
    "df['weapon'] = skin_name.apply(lambda x: x.split('|')[0].strip())\n",
    "\n",
    "df['last_sold_on_market'] = df['median_avg_prices_15days'].apply(lambda x: x.split(\"'\")[1][-4:])\n",
    "\n",
    "df = df[df.last_sold_on_market == '2023']\n",
    "\n",
    "df['skin_condition'] = df['market_name'].apply(lambda x: x.split('(')[1].replace(')', ''))\n",
    "\n",
    "df['skin_name'] = skin_name.apply(lambda x: x.split('|')[1].strip())\n",
    "\n",
    "df['release_year'] = df['collection'].map(collection_release_year_map).fillna(0)\n",
    "\n",
    "df['rarity'] = df['rarity'].apply(lambda x: x.split(' ')[0].strip())\n",
    "\n",
    "\n",
    "df.to_csv('skins_eda.csv', index=False)"
   ]
  },
  {
   "cell_type": "markdown",
   "metadata": {
    "id": "Ev8bkhGGcGz1"
   },
   "source": [
    "# Exploratory Data Analysis"
   ]
  },
  {
   "cell_type": "markdown",
   "metadata": {
    "id": "4liFvf5Kqu2D"
   },
   "source": [
    "## Release year histogram. The number of skins released per year has trended down consistently since 2013."
   ]
  },
  {
   "cell_type": "code",
   "execution_count": 4,
   "metadata": {
    "colab": {
     "base_uri": "https://localhost:8080/",
     "height": 467
    },
    "id": "24j2OC1dkGTI",
    "outputId": "991f6a69-2f7e-45d2-e6a8-bb30fef31ced"
   },
   "outputs": [
    {
     "data": {
      "text/plain": [
       "<AxesSubplot:xlabel='release_year', ylabel='Count'>"
      ]
     },
     "execution_count": 4,
     "metadata": {},
     "output_type": "execute_result"
    },
    {
     "data": {
      "image/png": "[encoded data removed]",
      "text/plain": [
       "<Figure size 432x288 with 1 Axes>"
      ]
     },
     "metadata": {
      "needs_background": "light"
     },
     "output_type": "display_data"
    }
   ],
   "source": [
    "import matplotlib.pyplot as plt\n",
    "import seaborn as sns\n",
    "\n",
    "sns.histplot(df.release_year, kde=True)"
   ]
  },
  {
   "cell_type": "markdown",
   "metadata": {
    "id": "NMQnXHLdqJbe"
   },
   "source": [
    "## Average price histogram. The majority of skins are under 250 dollars with a large number of them being under 20 dollars."
   ]
  },
  {
   "cell_type": "code",
   "execution_count": 5,
   "metadata": {
    "colab": {
     "base_uri": "https://localhost:8080/",
     "height": 467
    },
    "id": "hQu9Bdy2kIFq",
    "outputId": "2aed6bc5-9da7-4b8e-b3eb-e111d3d38eb9"
   },
   "outputs": [
    {
     "data": {
      "text/plain": [
       "<AxesSubplot:xlabel='average_price', ylabel='Count'>"
      ]
     },
     "execution_count": 5,
     "metadata": {},
     "output_type": "execute_result"
    },
    {
     "data": {
      "image/png": "[encoded data removed]",
      "text/plain": [
       "<Figure size 432x288 with 1 Axes>"
      ]
     },
     "metadata": {
      "needs_background": "light"
     },
     "output_type": "display_data"
    }
   ],
   "source": [
    "sns.histplot(df.average_price, kde=True)"
   ]
  },
  {
   "cell_type": "markdown",
   "metadata": {
    "id": "8qrbZtJkp6It"
   },
   "source": [
    "## Release year boxplot. Since every skin has been released between 2013 and 2023 it wouldn't make sense for there to be outliers."
   ]
  },
  {
   "cell_type": "code",
   "execution_count": 7,
   "metadata": {
    "colab": {
     "base_uri": "https://localhost:8080/",
     "height": 447
    },
    "id": "IrXrbOsGkV_D",
    "outputId": "070f259f-672a-4dad-e84e-3e3d36762897"
   },
   "outputs": [
    {
     "data": {
      "text/plain": [
       "<AxesSubplot:xlabel='release_year'>"
      ]
     },
     "execution_count": 7,
     "metadata": {},
     "output_type": "execute_result"
    },
    {
     "data": {
      "image/png": "[encoded data removed]",
      "text/plain": [
       "<Figure size 432x288 with 1 Axes>"
      ]
     },
     "metadata": {
      "needs_background": "light"
     },
     "output_type": "display_data"
    }
   ],
   "source": [
    "sns.boxplot(x=df.release_year)"
   ]
  },
  {
   "cell_type": "markdown",
   "metadata": {
    "id": "hW_ZkoFhpuaV"
   },
   "source": [
    "## Average price boxplot. There are many outliers as the price of skins varies so widely."
   ]
  },
  {
   "cell_type": "code",
   "execution_count": 9,
   "metadata": {
    "colab": {
     "base_uri": "https://localhost:8080/",
     "height": 447
    },
    "id": "jfaPYHC6keK3",
    "outputId": "bbffa187-85c3-452e-ac0c-0d02df0dd7f8"
   },
   "outputs": [
    {
     "data": {
      "text/plain": [
       "<AxesSubplot:xlabel='average_price'>"
      ]
     },
     "execution_count": 9,
     "metadata": {},
     "output_type": "execute_result"
    },
    {
     "data": {
      "image/png": "[encoded data removed]",
      "text/plain": [
       "<Figure size 432x288 with 1 Axes>"
      ]
     },
     "metadata": {
      "needs_background": "light"
     },
     "output_type": "display_data"
    }
   ],
   "source": [
    "sns.boxplot(x=df.average_price)"
   ]
  },
  {
   "cell_type": "markdown",
   "metadata": {
    "id": "w4QOvu2kpeBl"
   },
   "source": [
    "## Correlation heatmap.\n",
    "### It seems that the average price for a weapon skin is not much correlated with its release year."
   ]
  },
  {
   "cell_type": "code",
   "execution_count": 10,
   "metadata": {
    "colab": {
     "base_uri": "https://localhost:8080/",
     "height": 447
    },
    "id": "ML0t56jSnTrk",
    "outputId": "f96b30ff-eb6c-433e-b9a9-e6e70feece1a"
   },
   "outputs": [
    {
     "data": {
      "text/plain": [
       "<AxesSubplot:>"
      ]
     },
     "execution_count": 10,
     "metadata": {},
     "output_type": "execute_result"
    },
    {
     "data": {
      "image/png": "[encoded data removed]",
      "text/plain": [
       "<Figure size 432x288 with 2 Axes>"
      ]
     },
     "metadata": {
      "needs_background": "light"
     },
     "output_type": "display_data"
    }
   ],
   "source": [
    "cmap = sns.diverging_palette(220, 10, as_cmap=True)\n",
    "sns.heatmap(df[['release_year', 'average_price']].corr(), vmax=.3, center=0, cmap=cmap,\n",
    "            square=True, linewidths=.5, cbar_kws={'shrink': .5})"
   ]
  },
  {
   "cell_type": "markdown",
   "metadata": {
    "id": "qSNu7DoG3iCY"
   },
   "source": [
    "## The count of rarity, weapon, and skin_condition. The reason that the skin_conditions counts aren't all the same is due to weapon floats. Not every weapon skin exists in every condition."
   ]
  },
  {
   "cell_type": "markdown",
   "metadata": {},
   "source": [
    "### Weapon Type"
   ]
  },
  {
   "cell_type": "code",
   "execution_count": 78,
   "metadata": {
    "colab": {
     "base_uri": "https://localhost:8080/",
     "height": 466
    },
    "id": "h9AuC_ty7ZnW",
    "outputId": "da3665da-ed4b-4101-f671-722b2a7b9f94"
   },
   "outputs": [
    {
     "data": {
      "text/plain": [
       "<AxesSubplot:xlabel='weapon', ylabel='count'>"
      ]
     },
     "execution_count": 78,
     "metadata": {},
     "output_type": "execute_result"
    },
    {
     "data": {
      "image/png": "[encoded data removed]",
      "text/plain": [
       "<Figure size 432x288 with 1 Axes>"
      ]
     },
     "metadata": {
      "needs_background": "light"
     },
     "output_type": "display_data"
    }
   ],
   "source": [
    "weapon_palette = ['#947a3d', '#1b2366', '#1b2366']\n",
    "\n",
    "sns.countplot(x=df['weapon'], palette=weapon_palette)"
   ]
  },
  {
   "cell_type": "markdown",
   "metadata": {},
   "source": [
    "### Skin Rarity"
   ]
  },
  {
   "cell_type": "code",
   "execution_count": 12,
   "metadata": {
    "colab": {
     "base_uri": "https://localhost:8080/",
     "height": 466
    },
    "id": "uUuIfOqhrg6O",
    "outputId": "2fee6a2d-f8f3-419b-8400-4d481fa9d5b1"
   },
   "outputs": [
    {
     "data": {
      "text/plain": [
       "<AxesSubplot:xlabel='rarity', ylabel='count'>"
      ]
     },
     "execution_count": 12,
     "metadata": {},
     "output_type": "execute_result"
    },
    {
     "data": {
      "image/png": "[encoded data removed]",
      "text/plain": [
       "<Figure size 432x288 with 1 Axes>"
      ]
     },
     "metadata": {
      "needs_background": "light"
     },
     "output_type": "display_data"
    }
   ],
   "source": [
    "df_cat = df[['rarity', 'weapon', 'skin_condition']]\n",
    "\n",
    "order_rarity = ['Covert', 'Classified', 'Restricted', 'Mil-Spec', 'Industrial']\n",
    "order_condition = ['Factory New', 'Minimal Wear', 'Field-Tested', 'Well-Worn', 'Battle-Scarred']\n",
    "palette = ['#cc2132', '#d921c6', '#7b10c7', '#116ab8', '#5789b5']\n",
    "\n",
    "sns.countplot(x=df['rarity'], order=order_rarity, palette=palette)\n",
    "\n"
   ]
  },
  {
   "cell_type": "markdown",
   "metadata": {},
   "source": [
    "### Skin Condition"
   ]
  },
  {
   "cell_type": "code",
   "execution_count": 22,
   "metadata": {
    "colab": {
     "base_uri": "https://localhost:8080/",
     "height": 467
    },
    "id": "_YlETVIH7jYY",
    "outputId": "cafd0a6c-fde9-4cb3-e23b-8c0371861c69"
   },
   "outputs": [
    {
     "data": {
      "text/plain": [
       "<AxesSubplot:xlabel='skin_condition', ylabel='count'>"
      ]
     },
     "execution_count": 22,
     "metadata": {},
     "output_type": "execute_result"
    },
    {
     "data": {
      "image/png": "[encoded data removed]",
      "text/plain": [
       "<Figure size 432x288 with 1 Axes>"
      ]
     },
     "metadata": {
      "needs_background": "light"
     },
     "output_type": "display_data"
    }
   ],
   "source": [
    "sns.countplot(x=df['skin_condition'], order=order_condition)"
   ]
  },
  {
   "cell_type": "markdown",
   "metadata": {
    "id": "lN16yjjS81jR"
   },
   "source": [
    "## The average price of rarity, weapon, skin_condition, and release year."
   ]
  },
  {
   "cell_type": "markdown",
   "metadata": {},
   "source": [
    "### Weapon Type"
   ]
  },
  {
   "cell_type": "code",
   "execution_count": 51,
   "metadata": {
    "colab": {
     "base_uri": "https://localhost:8080/"
    },
    "id": "2S2NjynllQpG",
    "outputId": "b015e6d8-f28d-4474-de96-d6a92ce23080"
   },
   "outputs": [
    {
     "data": {
      "text/html": [
       "<div>\n",
       "<style scoped>\n",
       "    .dataframe tbody tr th:only-of-type {\n",
       "        vertical-align: middle;\n",
       "    }\n",
       "\n",
       "    .dataframe tbody tr th {\n",
       "        vertical-align: top;\n",
       "    }\n",
       "\n",
       "    .dataframe thead th {\n",
       "        text-align: right;\n",
       "    }\n",
       "</style>\n",
       "<table border=\"1\" class=\"dataframe\">\n",
       "  <thead>\n",
       "    <tr style=\"text-align: right;\">\n",
       "      <th></th>\n",
       "      <th>weapon</th>\n",
       "      <th>average_price</th>\n",
       "    </tr>\n",
       "  </thead>\n",
       "  <tbody>\n",
       "    <tr>\n",
       "      <th>0</th>\n",
       "      <td>AK-47</td>\n",
       "      <td>107.37</td>\n",
       "    </tr>\n",
       "    <tr>\n",
       "      <th>1</th>\n",
       "      <td>M4A1-S</td>\n",
       "      <td>81.38</td>\n",
       "    </tr>\n",
       "    <tr>\n",
       "      <th>2</th>\n",
       "      <td>M4A4</td>\n",
       "      <td>79.90</td>\n",
       "    </tr>\n",
       "  </tbody>\n",
       "</table>\n",
       "</div>"
      ],
      "text/plain": [
       "   weapon  average_price\n",
       "0   AK-47         107.37\n",
       "1  M4A1-S          81.38\n",
       "2    M4A4          79.90"
      ]
     },
     "execution_count": 51,
     "metadata": {},
     "output_type": "execute_result"
    },
    {
     "data": {
      "image/png": "[encoded data removed]",
      "text/plain": [
       "<Figure size 432x288 with 1 Axes>"
      ]
     },
     "metadata": {
      "needs_background": "light"
     },
     "output_type": "display_data"
    }
   ],
   "source": [
    "df_price_per_weapon = df.groupby('weapon')['average_price'].mean().apply(lambda x: round(x, 2))\n",
    "df_price_per_weapon = df_price_per_weapon.to_frame().reset_index()\n",
    "\n",
    "sns.barplot(x=df_price_per_weapon.weapon, y=df_price_per_weapon.average_price, palette=weapon_palette)\n",
    "df_price_per_weapon.head()"
   ]
  },
  {
   "cell_type": "markdown",
   "metadata": {},
   "source": [
    "### Skin Rarity"
   ]
  },
  {
   "cell_type": "code",
   "execution_count": 52,
   "metadata": {
    "colab": {
     "base_uri": "https://localhost:8080/"
    },
    "id": "Jw7bfzDClLhi",
    "outputId": "3a40d59f-1e83-428a-c790-9dbc15c23807"
   },
   "outputs": [
    {
     "data": {
      "text/plain": [
       "<AxesSubplot:xlabel='rarity', ylabel='average_price'>"
      ]
     },
     "execution_count": 52,
     "metadata": {},
     "output_type": "execute_result"
    },
    {
     "data": {
      "image/png": "[encoded data removed]",
      "text/plain": [
       "<Figure size 432x288 with 1 Axes>"
      ]
     },
     "metadata": {
      "needs_background": "light"
     },
     "output_type": "display_data"
    }
   ],
   "source": [
    "df_price_per_rarity = df.groupby('rarity')['average_price'].mean().apply(lambda x: round(x, 2))\n",
    "df_price_per_rarity = df_price_per_rarity.to_frame().reset_index()\n",
    "\n",
    "sns.barplot(x=df_price_per_rarity.rarity, y=df_price_per_rarity.average_price, order=order_rarity)"
   ]
  },
  {
   "cell_type": "markdown",
   "metadata": {},
   "source": [
    "### Skin Condition"
   ]
  },
  {
   "cell_type": "code",
   "execution_count": 25,
   "metadata": {
    "colab": {
     "base_uri": "https://localhost:8080/"
    },
    "id": "b0iT7rYgkr1V",
    "outputId": "46412e5e-a573-4828-f411-85a631c8144f"
   },
   "outputs": [
    {
     "data": {
      "text/plain": [
       "<AxesSubplot:xlabel='skin_condition', ylabel='average_price'>"
      ]
     },
     "execution_count": 25,
     "metadata": {},
     "output_type": "execute_result"
    },
    {
     "data": {
      "image/png": "[encoded data removed]",
      "text/plain": [
       "<Figure size 432x288 with 1 Axes>"
      ]
     },
     "metadata": {
      "needs_background": "light"
     },
     "output_type": "display_data"
    }
   ],
   "source": [
    "df_price_per_condition = df.groupby('skin_condition')['average_price'].mean().apply(lambda x: round(x, 2))\n",
    "df_price_per_condition = df_price_per_condition.to_frame().reset_index()\n",
    "\n",
    "\n",
    "sns.barplot(x=df_price_per_condition.skin_condition, y=df_price_per_condition.average_price, order=order_condition)"
   ]
  },
  {
   "cell_type": "markdown",
   "metadata": {},
   "source": [
    "### Release Year"
   ]
  },
  {
   "cell_type": "code",
   "execution_count": 86,
   "metadata": {},
   "outputs": [
    {
     "data": {
      "text/plain": [
       "<AxesSubplot:xlabel='release_year', ylabel='average_price'>"
      ]
     },
     "execution_count": 86,
     "metadata": {},
     "output_type": "execute_result"
    },
    {
     "data": {
      "image/png": "[encoded data removed]",
      "text/plain": [
       "<Figure size 432x288 with 1 Axes>"
      ]
     },
     "metadata": {
      "needs_background": "light"
     },
     "output_type": "display_data"
    }
   ],
   "source": [
    "df_price_per_condition = df.groupby('release_year')['average_price'].mean().apply(lambda x: round(x, 2))\n",
    "df_price_per_condition = df_price_per_condition.to_frame().reset_index()\n",
    "\n",
    "\n",
    "sns.barplot(x=df_price_per_condition.release_year, y=df_price_per_condition.average_price)"
   ]
  },
  {
   "cell_type": "markdown",
   "metadata": {},
   "source": [
    "## The average price of a skin on each weapon at each rarity"
   ]
  },
  {
   "cell_type": "code",
   "execution_count": 91,
   "metadata": {},
   "outputs": [
    {
     "data": {
      "text/plain": [
       "<AxesSubplot:xlabel='weapon', ylabel='average_price'>"
      ]
     },
     "execution_count": 91,
     "metadata": {},
     "output_type": "execute_result"
    },
    {
     "data": {
      "image/png": "[encoded data removed]",
      "text/plain": [
       "<Figure size 432x288 with 1 Axes>"
      ]
     },
     "metadata": {
      "needs_background": "light"
     },
     "output_type": "display_data"
    }
   ],
   "source": [
    "palette = ['#d921c6', '#cc2132', '#7b10c7', '#116ab8', '#5789b5']\n",
    "\n",
    "sns.barplot(x='weapon', y='average_price', hue='rarity', data=df, palette=palette)\n"
   ]
  },
  {
   "cell_type": "markdown",
   "metadata": {},
   "source": [
    "## The average price of a skin on each weapon at each condition"
   ]
  },
  {
   "cell_type": "code",
   "execution_count": 101,
   "metadata": {
    "scrolled": true
   },
   "outputs": [
    {
     "name": "stdout",
     "output_type": "stream",
     "text": [
      "                       average_price\n",
      "weapon skin_condition               \n",
      "AK-47  Battle-Scarred          60.39\n",
      "       Factory New            159.31\n",
      "       Field-Tested           131.23\n",
      "       Minimal Wear           127.86\n",
      "       Well-Worn               58.40\n",
      "M4A1-S Battle-Scarred          40.09\n",
      "       Factory New            177.19\n",
      "       Field-Tested            66.25\n",
      "       Minimal Wear            86.16\n",
      "       Well-Worn               25.03\n",
      "M4A4   Battle-Scarred          28.46\n",
      "       Factory New            179.11\n",
      "       Field-Tested            47.40\n",
      "       Minimal Wear           108.99\n",
      "       Well-Worn               29.81\n"
     ]
    },
    {
     "data": {
      "text/plain": [
       "<AxesSubplot:xlabel='weapon', ylabel='average_price'>"
      ]
     },
     "execution_count": 101,
     "metadata": {},
     "output_type": "execute_result"
    },
    {
     "data": {
      "image/png": "[encoded data removed]",
      "text/plain": [
       "<Figure size 432x288 with 1 Axes>"
      ]
     },
     "metadata": {
      "needs_background": "light"
     },
     "output_type": "display_data"
    }
   ],
   "source": [
    "sns.barplot(x='weapon', y='average_price', hue='skin_condition', data=df)"
   ]
  },
  {
   "cell_type": "markdown",
   "metadata": {},
   "source": [
    "## The average price of a skin on each weapon at each release year"
   ]
  },
  {
   "cell_type": "code",
   "execution_count": 99,
   "metadata": {},
   "outputs": [
    {
     "name": "stdout",
     "output_type": "stream",
     "text": [
      "                     average_price\n",
      "weapon release_year               \n",
      "AK-47  2013                 176.46\n",
      "       2014                 151.59\n",
      "       2015                  70.70\n",
      "       2016                 162.30\n",
      "       2017                  65.55\n",
      "       2018                  58.06\n",
      "       2019                   4.80\n",
      "       2020                 198.02\n",
      "       2021                  20.64\n",
      "       2022                  39.10\n",
      "       2023                  59.09\n",
      "M4A1-S 2013                  16.38\n",
      "       2014                  84.30\n",
      "       2015                 245.31\n",
      "       2016                  33.64\n",
      "       2017                  11.22\n",
      "       2018                  28.67\n",
      "       2019                  19.94\n",
      "       2020                 277.51\n",
      "       2021                 225.48\n",
      "       2022                   1.67\n",
      "       2023                   1.90\n",
      "M4A4   2013                  37.87\n",
      "       2014                  16.79\n",
      "       2015                 208.38\n",
      "       2016                  16.16\n",
      "       2017                  57.13\n",
      "       2018                   4.53\n",
      "       2019                  38.47\n",
      "       2020                  16.75\n",
      "       2021                  55.45\n",
      "       2022                   0.22\n",
      "       2023                 530.52\n"
     ]
    },
    {
     "data": {
      "text/plain": [
       "<AxesSubplot:xlabel='weapon', ylabel='average_price'>"
      ]
     },
     "execution_count": 99,
     "metadata": {},
     "output_type": "execute_result"
    },
    {
     "data": {
      "image/png": "[encoded data removed]",
      "text/plain": [
       "<Figure size 432x288 with 1 Axes>"
      ]
     },
     "metadata": {
      "needs_background": "light"
     },
     "output_type": "display_data"
    }
   ],
   "source": [
    "print(round(pd.pivot_table(df, index = ['weapon', 'release_year'], values = 'average_price'), 2))\n",
    "\n",
    "sns.barplot(x='weapon', y='average_price', hue='release_year', data=df)"
   ]
  },
  {
   "cell_type": "code",
   "execution_count": 76,
   "metadata": {
    "scrolled": false
   },
   "outputs": [
    {
     "data": {
      "text/html": [
       "<div>\n",
       "<style scoped>\n",
       "    .dataframe tbody tr th:only-of-type {\n",
       "        vertical-align: middle;\n",
       "    }\n",
       "\n",
       "    .dataframe tbody tr th {\n",
       "        vertical-align: top;\n",
       "    }\n",
       "\n",
       "    .dataframe thead th {\n",
       "        text-align: right;\n",
       "    }\n",
       "</style>\n",
       "<table border=\"1\" class=\"dataframe\">\n",
       "  <thead>\n",
       "    <tr style=\"text-align: right;\">\n",
       "      <th></th>\n",
       "      <th></th>\n",
       "      <th></th>\n",
       "      <th>average_price</th>\n",
       "    </tr>\n",
       "    <tr>\n",
       "      <th>weapon</th>\n",
       "      <th>rarity</th>\n",
       "      <th>skin_condition</th>\n",
       "      <th></th>\n",
       "    </tr>\n",
       "  </thead>\n",
       "  <tbody>\n",
       "    <tr>\n",
       "      <th rowspan=\"5\" valign=\"top\">AK-47</th>\n",
       "      <th rowspan=\"5\" valign=\"top\">Classified</th>\n",
       "      <th>Battle-Scarred</th>\n",
       "      <td>66.57</td>\n",
       "    </tr>\n",
       "    <tr>\n",
       "      <th>Factory New</th>\n",
       "      <td>187.40</td>\n",
       "    </tr>\n",
       "    <tr>\n",
       "      <th>Field-Tested</th>\n",
       "      <td>198.60</td>\n",
       "    </tr>\n",
       "    <tr>\n",
       "      <th>Minimal Wear</th>\n",
       "      <td>144.54</td>\n",
       "    </tr>\n",
       "    <tr>\n",
       "      <th>Well-Worn</th>\n",
       "      <td>78.16</td>\n",
       "    </tr>\n",
       "    <tr>\n",
       "      <th>...</th>\n",
       "      <th>...</th>\n",
       "      <th>...</th>\n",
       "      <td>...</td>\n",
       "    </tr>\n",
       "    <tr>\n",
       "      <th rowspan=\"5\" valign=\"top\">M4A4</th>\n",
       "      <th rowspan=\"5\" valign=\"top\">Restricted</th>\n",
       "      <th>Battle-Scarred</th>\n",
       "      <td>41.52</td>\n",
       "    </tr>\n",
       "    <tr>\n",
       "      <th>Factory New</th>\n",
       "      <td>90.72</td>\n",
       "    </tr>\n",
       "    <tr>\n",
       "      <th>Field-Tested</th>\n",
       "      <td>61.01</td>\n",
       "    </tr>\n",
       "    <tr>\n",
       "      <th>Minimal Wear</th>\n",
       "      <td>74.08</td>\n",
       "    </tr>\n",
       "    <tr>\n",
       "      <th>Well-Worn</th>\n",
       "      <td>20.32</td>\n",
       "    </tr>\n",
       "  </tbody>\n",
       "</table>\n",
       "<p>75 rows × 1 columns</p>\n",
       "</div>"
      ],
      "text/plain": [
       "                                  average_price\n",
       "weapon rarity     skin_condition               \n",
       "AK-47  Classified Battle-Scarred          66.57\n",
       "                  Factory New            187.40\n",
       "                  Field-Tested           198.60\n",
       "                  Minimal Wear           144.54\n",
       "                  Well-Worn               78.16\n",
       "...                                         ...\n",
       "M4A4   Restricted Battle-Scarred          41.52\n",
       "                  Factory New             90.72\n",
       "                  Field-Tested            61.01\n",
       "                  Minimal Wear            74.08\n",
       "                  Well-Worn               20.32\n",
       "\n",
       "[75 rows x 1 columns]"
      ]
     },
     "execution_count": 76,
     "metadata": {},
     "output_type": "execute_result"
    }
   ],
   "source": [
    "round(pd.pivot_table(df, index = ['weapon', 'rarity', 'skin_condition'], values = 'average_price'), 2)\n",
    "\n"
   ]
  },
  {
   "cell_type": "markdown",
   "metadata": {},
   "source": [
    "# Model Building"
   ]
  },
  {
   "cell_type": "code",
   "execution_count": 124,
   "metadata": {},
   "outputs": [],
   "source": [
    "import pandas as pd\n",
    "from sklearn.model_selection import train_test_split, cross_val_score\n",
    "\n",
    "df=pd.read_csv('skins_eda.csv')\n",
    "\n",
    "df_model = df[['rarity', 'average_price', 'weapon', 'skin_condition', 'release_year']]\n",
    "\n",
    "df_dum = pd.get_dummies(df_model)\n",
    "\n",
    "X = df_dum.drop('average_price', axis=1)\n",
    "y = df_dum.average_price.values\n",
    "\n",
    "X_train, X_test, y_train, y_test = train_test_split(X, y, test_size=0.2, random_state=73)"
   ]
  },
  {
   "cell_type": "markdown",
   "metadata": {},
   "source": [
    "## Linear Regression Model"
   ]
  },
  {
   "cell_type": "markdown",
   "metadata": {},
   "source": [
    "### We can see that our linear regression model is very inaccurate, being off by about 110 dollars when predicting the average price of a weapon skin. Since the prices of skins are so varied it is very difficult to create a model which can accurately predict the price of a skin given some parameters."
   ]
  },
  {
   "cell_type": "code",
   "execution_count": 125,
   "metadata": {},
   "outputs": [
    {
     "data": {
      "text/plain": [
       "-109.65685702247576"
      ]
     },
     "execution_count": 125,
     "metadata": {},
     "output_type": "execute_result"
    }
   ],
   "source": [
    "from sklearn.linear_model import LinearRegression\n",
    "import numpy as np\n",
    "\n",
    "lm = LinearRegression()\n",
    "lm.fit(X_train, y_train)\n",
    "\n",
    "np.mean(cross_val_score(lm, X_train, y_train, scoring='neg_mean_absolute_error'))"
   ]
  },
  {
   "cell_type": "markdown",
   "metadata": {},
   "source": [
    "## Random Forest Model"
   ]
  },
  {
   "cell_type": "markdown",
   "metadata": {},
   "source": [
    "### The random forest model is better than the linear regression model but not by much"
   ]
  },
  {
   "cell_type": "code",
   "execution_count": 142,
   "metadata": {},
   "outputs": [
    {
     "data": {
      "text/plain": [
       "-92.64102535507884"
      ]
     },
     "execution_count": 142,
     "metadata": {},
     "output_type": "execute_result"
    }
   ],
   "source": [
    "from sklearn.ensemble import RandomForestRegressor\n",
    "\n",
    "rf = RandomForestRegressor()\n",
    "\n",
    "np.mean(cross_val_score(rf, X_train, y_train, scoring='neg_mean_absolute_error'))"
   ]
  },
  {
   "cell_type": "markdown",
   "metadata": {},
   "source": [
    "## Tune Models With GridSearchCV"
   ]
  },
  {
   "cell_type": "code",
   "execution_count": 128,
   "metadata": {},
   "outputs": [
    {
     "data": {
      "text/plain": [
       "GridSearchCV(estimator=RandomForestRegressor(),\n",
       "             param_grid={'criterion': ('mse', 'mae'),\n",
       "                         'max_features': ('auto', 'sqrt', 'log2'),\n",
       "                         'n_estimators': range(10, 300, 20)},\n",
       "             scoring='neg_mean_absolute_error')"
      ]
     },
     "execution_count": 128,
     "metadata": {},
     "output_type": "execute_result"
    }
   ],
   "source": [
    "from sklearn.model_selection import GridSearchCV\n",
    "\n",
    "parameters = {'n_estimators':range(10,300,20), 'criterion':('mse','mae'), 'max_features':('auto','sqrt','log2')}\n",
    "\n",
    "gs = GridSearchCV(rf, parameters, scoring='neg_mean_absolute_error')\n",
    "gs.fit(X_train, y_train)"
   ]
  },
  {
   "cell_type": "code",
   "execution_count": 133,
   "metadata": {},
   "outputs": [
    {
     "data": {
      "text/plain": [
       "-89.39567069252621"
      ]
     },
     "execution_count": 133,
     "metadata": {},
     "output_type": "execute_result"
    }
   ],
   "source": [
    "gs.best_score_"
   ]
  },
  {
   "cell_type": "code",
   "execution_count": 134,
   "metadata": {},
   "outputs": [
    {
     "data": {
      "text/plain": [
       "RandomForestRegressor(criterion='mae', max_features='log2', n_estimators=30)"
      ]
     },
     "execution_count": 134,
     "metadata": {},
     "output_type": "execute_result"
    }
   ],
   "source": [
    "gs.best_estimator_"
   ]
  },
  {
   "cell_type": "markdown",
   "metadata": {},
   "source": [
    "## Use Models to Predict the Test Set and See How They Perform"
   ]
  },
  {
   "cell_type": "code",
   "execution_count": 149,
   "metadata": {},
   "outputs": [
    {
     "name": "stdout",
     "output_type": "stream",
     "text": [
      "121.74776773361438\n",
      "114.14059546925569\n"
     ]
    }
   ],
   "source": [
    "from sklearn.metrics import mean_absolute_error\n",
    "\n",
    "pred_lm = lm.predict(X_test)\n",
    "pred_rf = gs.best_estimator_.predict(X_test)\n",
    "\n",
    "print(mean_absolute_error(y_test, pred_lm))\n",
    "print(mean_absolute_error(y_test, pred_rf))"
   ]
  }
 ],
 "metadata": {
  "colab": {
   "provenance": [],
   "toc_visible": true
  },
  "kernelspec": {
   "display_name": "Python 3 (ipykernel)",
   "language": "python",
   "name": "python3"
  },
  "language_info": {
   "codemirror_mode": {
    "name": "ipython",
    "version": 3
   },
   "file_extension": ".py",
   "mimetype": "text/x-python",
   "name": "python",
   "nbconvert_exporter": "python",
   "pygments_lexer": "ipython3",
   "version": "3.9.7"
  }
 },
 "nbformat": 4,
 "nbformat_minor": 1
}
